{
 "cells": [
  {
   "cell_type": "code",
   "execution_count": 1,
   "metadata": {},
   "outputs": [],
   "source": [
    "%matplotlib inline\n",
    "from matplotlib import style\n",
    "style.use('fivethirtyeight')\n",
    "import matplotlib.pyplot as plt"
   ]
  },
  {
   "cell_type": "code",
   "execution_count": 2,
   "metadata": {},
   "outputs": [],
   "source": [
    "import numpy as np\n",
    "import pandas as pd\n",
    "import datetime as dt"
   ]
  },
  {
   "cell_type": "markdown",
   "metadata": {},
   "source": [
    "## Reflect Tables into SQLALchemy ORM"
   ]
  },
  {
   "cell_type": "code",
   "execution_count": 3,
   "metadata": {},
   "outputs": [],
   "source": [
    "# Python SQL toolkit and Object Relational Mapper\n",
    "import sqlalchemy\n",
    "from sqlalchemy.ext.automap import automap_base\n",
    "from sqlalchemy.orm import Session\n",
    "from sqlalchemy import create_engine, func"
   ]
  },
  {
   "cell_type": "code",
   "execution_count": 4,
   "metadata": {},
   "outputs": [],
   "source": [
    "# create engine to hawaii.sqlite\n",
    "engine = create_engine(\"sqlite:///Resources/hawaii.sqlite\")"
   ]
  },
  {
   "cell_type": "code",
   "execution_count": 5,
   "metadata": {},
   "outputs": [],
   "source": [
    "# reflect an existing database into a new model\n",
    "Base = automap_base()\n",
    "# reflect the tables\n",
    "Base.prepare(engine, reflect=True)"
   ]
  },
  {
   "cell_type": "code",
   "execution_count": 6,
   "metadata": {},
   "outputs": [
    {
     "data": {
      "text/plain": [
       "['measurement', 'station']"
      ]
     },
     "execution_count": 6,
     "metadata": {},
     "output_type": "execute_result"
    }
   ],
   "source": [
    "# View all of the classes that automap found\n",
    "Base.classes.keys()"
   ]
  },
  {
   "cell_type": "code",
   "execution_count": 7,
   "metadata": {},
   "outputs": [],
   "source": [
    "# Save references to each table\n",
    "Measurement = Base.classes.measurement\n",
    "\n",
    "Station = Base.classes.station"
   ]
  },
  {
   "cell_type": "code",
   "execution_count": 8,
   "metadata": {},
   "outputs": [],
   "source": [
    "# Create our session (link) from Python to the DB\n",
    "session = Session(engine)"
   ]
  },
  {
   "cell_type": "markdown",
   "metadata": {},
   "source": [
    "## Bonus Challenge Assignment: Temperature Analysis II"
   ]
  },
  {
   "cell_type": "code",
   "execution_count": null,
   "metadata": {},
   "outputs": [],
   "source": [
    "# This function called `calc_temps` will accept start date and end date in the format '%Y-%m-%d' \n",
    "# and return the minimum, maximum, and average temperatures for that range of dates\n",
    "def calc_temps(start_date, end_date):\n",
    "    \"\"\"TMIN, TAVG, and TMAX for a list of dates.\n",
    "    \n",
    "    Args:\n",
    "        start_date (string): A date string in the format %Y-%m-%d\n",
    "        end_date (string): A date string in the format %Y-%m-%d\n",
    "        \n",
    "    Returns:\n",
    "        TMIN, TAVE, and TMAX\n",
    "    \"\"\"\n",
    "    \n",
    "    return session.query(func.min(Measurement.tobs), func.avg(Measurement.tobs), func.max(Measurement.tobs)).\\\n",
    "        filter(Measurement.date >= start_date).filter(Measurement.date <= end_date).all()\n",
    "\n",
    "# For example\n",
    "print(calc_temps('2012-02-28', '2012-03-05'))"
   ]
  },
  {
   "cell_type": "code",
   "execution_count": null,
   "metadata": {},
   "outputs": [],
   "source": [
    "# Use the function `calc_temps` to calculate the tmin, tavg, and tmax \n",
    "# for a year in the data set\n",
    "print(calc_temps('2013-01-01','2014-01-01'))\n",
    "\n",
    "min_temperature = []\n",
    "avg_temperature = []\n",
    "max_temperature = []\n",
    "years = []\n",
    "\n",
    "\n",
    "for each in np.arange(1,9,1): \n",
    "    start_date = start + each*(dt.timedelta(days=365))\n",
    "    end_date = start_date + dt.timedelta(days=365)\n",
    "    temperature_calc = calc_temps(start_date,end_date)\n",
    "    \n",
    "    #append min temp\n",
    "    min_temp = temperature_calc[0][0]\n",
    "    min_temperature.append(min_temp)\n",
    "    \n",
    "    #append avg temp\n",
    "    avg_temp = temperature_calc[0][1]\n",
    "    avg_temperature.append(avg_temp)\n",
    "    \n",
    "    #append max temp\n",
    "    max_temp = temperature_calc[0][1]\n",
    "    max_temperature.append(max_temp)\n",
    "    \n",
    "    #add year\n",
    "    year = start_date.year\n",
    "    years.append(year)\n",
    "\n",
    "temperature_df = pd.DataFrame({'Year': years,'Min Temp': min_temperature, 'Max Temp': max_temperature, 'Avg Temp': avg_temperature})\n",
    "\n",
    "temperature_df['Max - Min Temp'] = temperature_df['Max Temp'] - temperature_df['Min Temp']\n",
    "temperature_df"
   ]
  },
  {
   "cell_type": "code",
   "execution_count": null,
   "metadata": {},
   "outputs": [],
   "source": [
    "# Plot the results from your previous query as a bar chart. \n",
    "# Use \"Trip Avg Temp\" as your Title\n",
    "# Use the average temperature for bar height (y value)\n",
    "# Use the peak-to-peak (tmax-tmin) value as the y error bar (yerr)\n",
    "\n",
    "temperature_df.plot.bar(x = 'Year', y = 'Avg Temp', yerr = 'Max - Min Temp')\n",
    "plt.title('Trip Avg Temp')\n",
    "plt.show()"
   ]
  },
  {
   "cell_type": "markdown",
   "metadata": {},
   "source": [
    "### Daily Rainfall Average"
   ]
  },
  {
   "cell_type": "code",
   "execution_count": null,
   "metadata": {},
   "outputs": [],
   "source": [
    "# Calculate the total amount of rainfall per weather station for your trip dates using the previous year's \n",
    "# matching dates.\n",
    "# Sort this in descending order by precipitation amount and list the station, name, latitude, longitude, and elevation\n",
    "precipitation_year = session.query(Measurement.date, Measurement.prcp, Measurement.station).\\\n",
    "        filter(Measurement.date >= '2016-01-01').filter(Measurement.date <= '2017-01-01').all()\n",
    "\n",
    "precipitation_df = pd.DataFrame(precipitation_year, columns=['Date', 'Precipitation', 'Station'])\n",
    "precipitation_df = precipitation_df.set_index(['Date'])\n",
    "\n",
    "station_precipitation = precipitation_df.groupby('Station').sum()\n",
    "\n",
    "station_precipitation.sort_values(by = 'Precipitation', ascending = False)"
   ]
  },
  {
   "cell_type": "markdown",
   "metadata": {},
   "source": [
    "### Daily Temperature Normals"
   ]
  },
  {
   "cell_type": "code",
   "execution_count": 9,
   "metadata": {},
   "outputs": [
    {
     "data": {
      "text/plain": [
       "[(62.0, 69.15384615384616, 77.0)]"
      ]
     },
     "execution_count": 9,
     "metadata": {},
     "output_type": "execute_result"
    }
   ],
   "source": [
    "# Use this function to calculate the daily normals \n",
    "# (i.e. the averages for tmin, tmax, and tavg for all historic data matching a specific month and day)\n",
    "\n",
    "def daily_normals(date):\n",
    "    \"\"\"Daily Normals.\n",
    "    \n",
    "    Args:\n",
    "        date (str): A date string in the format '%m-%d'\n",
    "        \n",
    "    Returns:\n",
    "        A list of tuples containing the daily normals, tmin, tavg, and tmax\n",
    "    \n",
    "    \"\"\"\n",
    "    \n",
    "    sel = [func.min(Measurement.tobs), func.avg(Measurement.tobs), func.max(Measurement.tobs)]\n",
    "    return session.query(*sel).filter(func.strftime(\"%m-%d\", Measurement.date) == date).all()\n",
    "\n",
    "# For example\n",
    "daily_normals(\"01-01\")"
   ]
  },
  {
   "cell_type": "code",
   "execution_count": 18,
   "metadata": {},
   "outputs": [
    {
     "data": {
      "text/plain": [
       "[[(57.0, 67.16071428571429, 75.0)],\n",
       " [(56.0, 66.75438596491227, 74.0)],\n",
       " [(59.0, 68.72413793103448, 78.0)],\n",
       " [(66.0, 72.10526315789474, 77.0)],\n",
       " [(65.0, 72.18867924528301, 80.0)],\n",
       " [(70.0, 75.58620689655173, 81.0)],\n",
       " [(69.0, 76.08333333333333, 83.0)]]"
      ]
     },
     "execution_count": 18,
     "metadata": {},
     "output_type": "execute_result"
    }
   ],
   "source": [
    "# calculate the daily normals for your trip\n",
    "# push each tuple of calculations into a list called `normals`\n",
    "\n",
    "# Set the start and end date of the trip\n",
    "start_date = dt.date(2017,8,1) #'2017-08-01'\n",
    "end_date = dt.date(2017,8,7 )#'2017-08-07'\n",
    "\n",
    "dates = []\n",
    "# Use the start and end date to create a range of dates\n",
    "for each in np.arange(0,7,1):\n",
    "    date = start_date + each*(dt.timedelta(days=1))\n",
    "    dates.append(date)\n",
    "    \n",
    "# Strip off the year and save a list of strings in the format %m-%d\n",
    "\n",
    "dates_func = []\n",
    "for date in dates:\n",
    "    day = '0'+ str(date.day)\n",
    "    month = '0' + str(date.month)\n",
    "    day_month = \"-\".join((day,month))\n",
    "    dates_func.append(day_month)\n",
    "    \n",
    "dates_func\n",
    "# Use the `daily_normals` function to calculate the normals for each date string \n",
    "# and append the results to a list called `normals`.\n",
    "normals = []\n",
    "for day in dates_func:\n",
    "    normals.append(daily_normals(day))\n",
    "\n",
    "normals"
   ]
  },
  {
   "cell_type": "code",
   "execution_count": 33,
   "metadata": {},
   "outputs": [
    {
     "data": {
      "text/html": [
       "<div>\n",
       "<style scoped>\n",
       "    .dataframe tbody tr th:only-of-type {\n",
       "        vertical-align: middle;\n",
       "    }\n",
       "\n",
       "    .dataframe tbody tr th {\n",
       "        vertical-align: top;\n",
       "    }\n",
       "\n",
       "    .dataframe thead th {\n",
       "        text-align: right;\n",
       "    }\n",
       "</style>\n",
       "<table border=\"1\" class=\"dataframe\">\n",
       "  <thead>\n",
       "    <tr style=\"text-align: right;\">\n",
       "      <th></th>\n",
       "      <th>Min Temp</th>\n",
       "      <th>Max Temp</th>\n",
       "      <th>Avg Temp</th>\n",
       "    </tr>\n",
       "    <tr>\n",
       "      <th>Date</th>\n",
       "      <th></th>\n",
       "      <th></th>\n",
       "      <th></th>\n",
       "    </tr>\n",
       "  </thead>\n",
       "  <tbody>\n",
       "    <tr>\n",
       "      <th>2017-08-01</th>\n",
       "      <td>57.0</td>\n",
       "      <td>75.0</td>\n",
       "      <td>67.160714</td>\n",
       "    </tr>\n",
       "    <tr>\n",
       "      <th>2017-08-02</th>\n",
       "      <td>56.0</td>\n",
       "      <td>74.0</td>\n",
       "      <td>66.754386</td>\n",
       "    </tr>\n",
       "    <tr>\n",
       "      <th>2017-08-03</th>\n",
       "      <td>59.0</td>\n",
       "      <td>78.0</td>\n",
       "      <td>68.724138</td>\n",
       "    </tr>\n",
       "    <tr>\n",
       "      <th>2017-08-04</th>\n",
       "      <td>66.0</td>\n",
       "      <td>77.0</td>\n",
       "      <td>72.105263</td>\n",
       "    </tr>\n",
       "    <tr>\n",
       "      <th>2017-08-05</th>\n",
       "      <td>65.0</td>\n",
       "      <td>80.0</td>\n",
       "      <td>72.188679</td>\n",
       "    </tr>\n",
       "    <tr>\n",
       "      <th>2017-08-06</th>\n",
       "      <td>70.0</td>\n",
       "      <td>81.0</td>\n",
       "      <td>75.586207</td>\n",
       "    </tr>\n",
       "    <tr>\n",
       "      <th>2017-08-07</th>\n",
       "      <td>69.0</td>\n",
       "      <td>83.0</td>\n",
       "      <td>76.083333</td>\n",
       "    </tr>\n",
       "  </tbody>\n",
       "</table>\n",
       "</div>"
      ],
      "text/plain": [
       "            Min Temp  Max Temp   Avg Temp\n",
       "Date                                     \n",
       "2017-08-01      57.0      75.0  67.160714\n",
       "2017-08-02      56.0      74.0  66.754386\n",
       "2017-08-03      59.0      78.0  68.724138\n",
       "2017-08-04      66.0      77.0  72.105263\n",
       "2017-08-05      65.0      80.0  72.188679\n",
       "2017-08-06      70.0      81.0  75.586207\n",
       "2017-08-07      69.0      83.0  76.083333"
      ]
     },
     "execution_count": 33,
     "metadata": {},
     "output_type": "execute_result"
    }
   ],
   "source": [
    "# Load the previous query results into a Pandas DataFrame and add the `trip_dates` range as the `date` index\n",
    "min_temperature = []\n",
    "avg_temperature = []\n",
    "max_temperature = []\n",
    "date_normal = []\n",
    "\n",
    "normals[1][0][0]\n",
    "for each in np.arange(0,7,1): \n",
    "    date = dates[each]\n",
    "    date_normal.append(date)\n",
    "    \n",
    "    #append min temp\n",
    "    min_temp = normals[each][0][0]\n",
    "    min_temperature.append(min_temp)\n",
    "    \n",
    "    #append avg temp\n",
    "    avg_temp = normals[each][0][1]\n",
    "    avg_temperature.append(avg_temp)\n",
    "    \n",
    "    #append max temp\n",
    "    max_temp = normals[each][0][2]\n",
    "    max_temperature.append(max_temp)\n",
    "\n",
    "normals_df = pd.DataFrame({'Date': date_normal,'Min Temp': min_temperature, 'Max Temp': max_temperature, 'Avg Temp': avg_temperature})\n",
    "\n",
    "normals_df.set_index('Date')"
   ]
  },
  {
   "cell_type": "code",
   "execution_count": 39,
   "metadata": {},
   "outputs": [
    {
     "data": {
      "image/png": "[encoded data removed]",
      "text/plain": [
       "<Figure size 432x288 with 1 Axes>"
      ]
     },
     "metadata": {},
     "output_type": "display_data"
    }
   ],
   "source": [
    "# Plot the daily normals as an area plot with `stacked=False`\n",
    "normals_df.plot.area(x = 'Date', stacked = False)\n",
    "plt.title('Area Plot of Temperature over Time')\n",
    "plt.show()"
   ]
  },
  {
   "cell_type": "markdown",
   "metadata": {},
   "source": [
    "## Close Session"
   ]
  },
  {
   "cell_type": "code",
   "execution_count": 41,
   "metadata": {},
   "outputs": [],
   "source": [
    "session.close()"
   ]
  },
  {
   "cell_type": "code",
   "execution_count": null,
   "metadata": {},
   "outputs": [],
   "source": []
  }
 ],
 "metadata": {
  "kernelspec": {
   "display_name": "Python 3",
   "language": "python",
   "name": "python3"
  },
  "language_info": {
   "codemirror_mode": {
    "name": "ipython",
    "version": 3
   },
   "file_extension": ".py",
   "mimetype": "text/x-python",
   "name": "python",
   "nbconvert_exporter": "python",
   "pygments_lexer": "ipython3",
   "version": "3.8.8"
  }
 },
 "nbformat": 4,
 "nbformat_minor": 4
}
